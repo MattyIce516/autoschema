{
 "cells": [
  {
   "cell_type": "code",
   "execution_count": 1,
   "metadata": {},
   "outputs": [
    {
     "name": "stdout",
     "output_type": "stream",
     "text": [
      "Help on package autoschema:\n",
      "\n",
      "NAME\n",
      "    autoschema - # Package\n",
      "\n",
      "PACKAGE CONTENTS\n",
      "    autoschema\n",
      "    util\n",
      "\n",
      "FILE\n",
      "    /Users/matthewharris/Documents/GItHub Repos/autoschema/venv/lib/python3.10/site-packages/autoschema/__init__.py\n",
      "\n",
      "\n"
     ]
    }
   ],
   "source": [
    "import autoschema\n",
    "help(autoschema)"
   ]
  },
  {
   "cell_type": "code",
   "execution_count": null,
   "metadata": {},
   "outputs": [],
   "source": []
  }
 ],
 "metadata": {
  "kernelspec": {
   "display_name": "venv",
   "language": "python",
   "name": "python3"
  },
  "language_info": {
   "codemirror_mode": {
    "name": "ipython",
    "version": 3
   },
   "file_extension": ".py",
   "mimetype": "text/x-python",
   "name": "python",
   "nbconvert_exporter": "python",
   "pygments_lexer": "ipython3",
   "version": "3.10.11"
  }
 },
 "nbformat": 4,
 "nbformat_minor": 2
}
