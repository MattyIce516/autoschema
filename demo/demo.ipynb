{
 "cells": [
  {
   "cell_type": "code",
   "execution_count": 7,
   "metadata": {},
   "outputs": [
    {
     "name": "stdout",
     "output_type": "stream",
     "text": [
      "Help on function auto_schema in module autoschema.autoschema:\n",
      "\n",
      "auto_schema(df: pandas.core.frame.DataFrame, standardize_names: bool = True, write_schema: bool = True, schema_file_name: Optional[str] = None) -> pandas.core.frame.DataFrame\n",
      "    Generate schema from a dataframe.\n",
      "    Convert all columns to the proper data types before calling this function.\n",
      "    \n",
      "    Parameters\n",
      "    -----------\n",
      "    df: (pd.DataFrame) dataframe to apply schema creation\n",
      "    standardize_names: (bool) True/False whether or not to standardize column names\n",
      "    write_schema: (bool) True/False whether to write out schema to excel\n",
      "    schema_file_name: (str | None) name of output schema file. You can input an entire path instead of just a file name if you wish to write to a sepcific location. Defaults to schema.xlsx in the current working directory.\n",
      "    \n",
      "    Examples\n",
      "    ----------\n",
      "    >>> import pandas as pd\n",
      "    >>> data = pd.read_csv('data.csv')\n",
      "    >>> schema = auto_schema(data, write_schema=True, schema_file_name='path/to/schema.xlsx')\n",
      "\n"
     ]
    }
   ],
   "source": [
    "import pandas as pd\n",
    "import autoschema\n",
    "help(autoschema.auto_schema)"
   ]
  },
  {
   "cell_type": "code",
   "execution_count": 2,
   "metadata": {},
   "outputs": [
    {
     "data": {
      "text/html": [
       "<div>\n",
       "<style scoped>\n",
       "    .dataframe tbody tr th:only-of-type {\n",
       "        vertical-align: middle;\n",
       "    }\n",
       "\n",
       "    .dataframe tbody tr th {\n",
       "        vertical-align: top;\n",
       "    }\n",
       "\n",
       "    .dataframe thead th {\n",
       "        text-align: right;\n",
       "    }\n",
       "</style>\n",
       "<table border=\"1\" class=\"dataframe\">\n",
       "  <thead>\n",
       "    <tr style=\"text-align: right;\">\n",
       "      <th></th>\n",
       "      <th>name</th>\n",
       "      <th>age</th>\n",
       "      <th>income</th>\n",
       "    </tr>\n",
       "  </thead>\n",
       "  <tbody>\n",
       "    <tr>\n",
       "      <th>0</th>\n",
       "      <td>Alice</td>\n",
       "      <td>25.0</td>\n",
       "      <td>50000.0</td>\n",
       "    </tr>\n",
       "    <tr>\n",
       "      <th>1</th>\n",
       "      <td>None</td>\n",
       "      <td>30.0</td>\n",
       "      <td>NaN</td>\n",
       "    </tr>\n",
       "    <tr>\n",
       "      <th>2</th>\n",
       "      <td>Bob</td>\n",
       "      <td>NaN</td>\n",
       "      <td>60000.0</td>\n",
       "    </tr>\n",
       "  </tbody>\n",
       "</table>\n",
       "</div>"
      ],
      "text/plain": [
       "    name   age   income\n",
       "0  Alice  25.0  50000.0\n",
       "1   None  30.0      NaN\n",
       "2    Bob   NaN  60000.0"
      ]
     },
     "execution_count": 2,
     "metadata": {},
     "output_type": "execute_result"
    }
   ],
   "source": [
    "sample_df = pd.DataFrame({\n",
    "        'name': ['Alice', None, 'Bob'],\n",
    "        'age': [25, 30, None],\n",
    "        'income': [50000, None, 60000]\n",
    "    })\n",
    "sample_df"
   ]
  },
  {
   "cell_type": "code",
   "execution_count": 6,
   "metadata": {},
   "outputs": [
    {
     "name": "stdout",
     "output_type": "stream",
     "text": [
      "  column_name data_type  description            examples  default_fill_value  \\\n",
      "0        name    object          NaN        [Alice, Bob]                 NaN   \n",
      "1         age   float64          NaN        [25.0, 30.0]                 NaN   \n",
      "2      income   float64          NaN  [50000.0, 60000.0]                 NaN   \n",
      "\n",
      "   required  \n",
      "0       NaN  \n",
      "1       NaN  \n",
      "2       NaN  \n"
     ]
    }
   ],
   "source": [
    "schema = autoschema.auto_schema(\n",
    "    sample_df, \n",
    "    standardize_names=True,\n",
    "    write_schema=True, \n",
    "    schema_file_name='schema.xlsx'\n",
    ")\n",
    "print(schema)"
   ]
  },
  {
   "cell_type": "code",
   "execution_count": 3,
   "metadata": {},
   "outputs": [
    {
     "name": "stdout",
     "output_type": "stream",
     "text": [
      "  column_name data_type  description            examples  default_fill_value  \\\n",
      "0        name    object          NaN    ['Alice', 'Bob']                 NaN   \n",
      "1         age   float64          NaN        [25.0, 30.0]                20.0   \n",
      "2      income   float64          NaN  [50000.0, 60000.0]             40000.0   \n",
      "\n",
      "   required  \n",
      "0      True  \n",
      "1      True  \n",
      "2      True  \n"
     ]
    }
   ],
   "source": [
    "# Manually edit the schema excel file and try to validate\n",
    "validator = autoschema.SchemaValidator(schema_file='schema.xlsx', use_standardized_names=True).fit(sample_df)\n",
    "print(validator.validation_rules)"
   ]
  },
  {
   "cell_type": "code",
   "execution_count": 4,
   "metadata": {},
   "outputs": [
    {
     "ename": "ValueError",
     "evalue": "Missing required column: name",
     "output_type": "error",
     "traceback": [
      "\u001b[0;31m---------------------------------------------------------------------------\u001b[0m",
      "\u001b[0;31mValueError\u001b[0m                                Traceback (most recent call last)",
      "Cell \u001b[0;32mIn[4], line 7\u001b[0m\n\u001b[1;32m      1\u001b[0m \u001b[38;5;66;03m# Validate a new frame - Negative example where the schema fails\u001b[39;00m\n\u001b[1;32m      2\u001b[0m new_df \u001b[38;5;241m=\u001b[39m pd\u001b[38;5;241m.\u001b[39mDataFrame({\n\u001b[1;32m      3\u001b[0m         \u001b[38;5;124m'\u001b[39m\u001b[38;5;124mage\u001b[39m\u001b[38;5;124m'\u001b[39m: [\u001b[38;5;241m25\u001b[39m, \u001b[38;5;241m30\u001b[39m, \u001b[38;5;28;01mNone\u001b[39;00m],\n\u001b[1;32m      4\u001b[0m         \u001b[38;5;124m'\u001b[39m\u001b[38;5;124mincome\u001b[39m\u001b[38;5;124m'\u001b[39m: [\u001b[38;5;241m50000\u001b[39m, \u001b[38;5;28;01mNone\u001b[39;00m, \u001b[38;5;241m60000\u001b[39m]\n\u001b[1;32m      5\u001b[0m     })\n\u001b[0;32m----> 7\u001b[0m new_df \u001b[38;5;241m=\u001b[39m \u001b[43mvalidator\u001b[49m\u001b[38;5;241;43m.\u001b[39;49m\u001b[43mtransform\u001b[49m\u001b[43m(\u001b[49m\u001b[43mnew_df\u001b[49m\u001b[43m)\u001b[49m\n",
      "File \u001b[0;32m~/Documents/GItHub Repos/autoschema/venv/lib/python3.10/site-packages/sklearn/utils/_set_output.py:295\u001b[0m, in \u001b[0;36m_wrap_method_output.<locals>.wrapped\u001b[0;34m(self, X, *args, **kwargs)\u001b[0m\n\u001b[1;32m    293\u001b[0m \u001b[38;5;129m@wraps\u001b[39m(f)\n\u001b[1;32m    294\u001b[0m \u001b[38;5;28;01mdef\u001b[39;00m \u001b[38;5;21mwrapped\u001b[39m(\u001b[38;5;28mself\u001b[39m, X, \u001b[38;5;241m*\u001b[39margs, \u001b[38;5;241m*\u001b[39m\u001b[38;5;241m*\u001b[39mkwargs):\n\u001b[0;32m--> 295\u001b[0m     data_to_wrap \u001b[38;5;241m=\u001b[39m \u001b[43mf\u001b[49m\u001b[43m(\u001b[49m\u001b[38;5;28;43mself\u001b[39;49m\u001b[43m,\u001b[49m\u001b[43m \u001b[49m\u001b[43mX\u001b[49m\u001b[43m,\u001b[49m\u001b[43m \u001b[49m\u001b[38;5;241;43m*\u001b[39;49m\u001b[43margs\u001b[49m\u001b[43m,\u001b[49m\u001b[43m \u001b[49m\u001b[38;5;241;43m*\u001b[39;49m\u001b[38;5;241;43m*\u001b[39;49m\u001b[43mkwargs\u001b[49m\u001b[43m)\u001b[49m\n\u001b[1;32m    296\u001b[0m     \u001b[38;5;28;01mif\u001b[39;00m \u001b[38;5;28misinstance\u001b[39m(data_to_wrap, \u001b[38;5;28mtuple\u001b[39m):\n\u001b[1;32m    297\u001b[0m         \u001b[38;5;66;03m# only wrap the first output for cross decomposition\u001b[39;00m\n\u001b[1;32m    298\u001b[0m         return_tuple \u001b[38;5;241m=\u001b[39m (\n\u001b[1;32m    299\u001b[0m             _wrap_data_with_container(method, data_to_wrap[\u001b[38;5;241m0\u001b[39m], X, \u001b[38;5;28mself\u001b[39m),\n\u001b[1;32m    300\u001b[0m             \u001b[38;5;241m*\u001b[39mdata_to_wrap[\u001b[38;5;241m1\u001b[39m:],\n\u001b[1;32m    301\u001b[0m         )\n",
      "File \u001b[0;32m~/Documents/GItHub Repos/autoschema/venv/lib/python3.10/site-packages/autoschema/autoschema.py:109\u001b[0m, in \u001b[0;36mSchemaValidator.transform\u001b[0;34m(self, X)\u001b[0m\n\u001b[1;32m    107\u001b[0m \u001b[38;5;66;03m# Apply transformations and checks based on the schema\u001b[39;00m\n\u001b[1;32m    108\u001b[0m \u001b[38;5;28;01mfor\u001b[39;00m _, row \u001b[38;5;129;01min\u001b[39;00m \u001b[38;5;28mself\u001b[39m\u001b[38;5;241m.\u001b[39mvalidation_rules\u001b[38;5;241m.\u001b[39miterrows():\n\u001b[0;32m--> 109\u001b[0m     \u001b[38;5;28;43mself\u001b[39;49m\u001b[38;5;241;43m.\u001b[39;49m\u001b[43m_validate_and_transform_column\u001b[49m\u001b[43m(\u001b[49m\u001b[43mX\u001b[49m\u001b[43m,\u001b[49m\u001b[43m \u001b[49m\u001b[43mrow\u001b[49m\u001b[43m)\u001b[49m\n\u001b[1;32m    111\u001b[0m \u001b[38;5;28;01mreturn\u001b[39;00m X\n",
      "File \u001b[0;32m~/Documents/GItHub Repos/autoschema/venv/lib/python3.10/site-packages/autoschema/autoschema.py:121\u001b[0m, in \u001b[0;36mSchemaValidator._validate_and_transform_column\u001b[0;34m(self, df, schema_row)\u001b[0m\n\u001b[1;32m    119\u001b[0m     \u001b[38;5;28mself\u001b[39m\u001b[38;5;241m.\u001b[39m_fill_missing_values(df, col_name, schema_row[\u001b[38;5;124m'\u001b[39m\u001b[38;5;124mdefault_fill_value\u001b[39m\u001b[38;5;124m'\u001b[39m])\n\u001b[1;32m    120\u001b[0m \u001b[38;5;28;01melif\u001b[39;00m required:\n\u001b[0;32m--> 121\u001b[0m     \u001b[38;5;28;01mraise\u001b[39;00m \u001b[38;5;167;01mValueError\u001b[39;00m(\u001b[38;5;124mf\u001b[39m\u001b[38;5;124m\"\u001b[39m\u001b[38;5;124mMissing required column: \u001b[39m\u001b[38;5;132;01m{\u001b[39;00mcol_name\u001b[38;5;132;01m}\u001b[39;00m\u001b[38;5;124m\"\u001b[39m)\n",
      "\u001b[0;31mValueError\u001b[0m: Missing required column: name"
     ]
    }
   ],
   "source": [
    "# Validate a new frame - Negative example where the schema fails\n",
    "new_df = pd.DataFrame({\n",
    "        'age': [25, 30, None],\n",
    "        'income': [50000, None, 60000]\n",
    "    })\n",
    "\n",
    "new_df = validator.transform(new_df)"
   ]
  },
  {
   "cell_type": "code",
   "execution_count": 5,
   "metadata": {},
   "outputs": [
    {
     "name": "stdout",
     "output_type": "stream",
     "text": [
      "    name   age   income\n",
      "0  Alice  25.0  50000.0\n",
      "1   None  30.0  40000.0\n",
      "2    Bob  20.0  60000.0\n"
     ]
    }
   ],
   "source": [
    "# Get a working example\n",
    "new_df = pd.DataFrame({\n",
    "        'name ': ['Alice', None, 'Bob'],\n",
    "        'AGE': ['25', '30', None],\n",
    "        'in-come': [50000, None, 60000]\n",
    "    })\n",
    "\n",
    "new_df = validator.transform(new_df)\n",
    "print(new_df)"
   ]
  },
  {
   "cell_type": "code",
   "execution_count": null,
   "metadata": {},
   "outputs": [],
   "source": []
  }
 ],
 "metadata": {
  "kernelspec": {
   "display_name": "venv",
   "language": "python",
   "name": "python3"
  },
  "language_info": {
   "codemirror_mode": {
    "name": "ipython",
    "version": 3
   },
   "file_extension": ".py",
   "mimetype": "text/x-python",
   "name": "python",
   "nbconvert_exporter": "python",
   "pygments_lexer": "ipython3",
   "version": "3.10.11"
  }
 },
 "nbformat": 4,
 "nbformat_minor": 2
}
